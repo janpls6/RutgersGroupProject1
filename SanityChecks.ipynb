{
 "cells": [
  {
   "cell_type": "code",
   "execution_count": 126,
   "metadata": {},
   "outputs": [],
   "source": [
    "import pandas as pd\n",
    "import numpy as np"
   ]
  },
  {
   "cell_type": "code",
   "execution_count": 65,
   "metadata": {},
   "outputs": [],
   "source": [
    "df_NYC_2016_list = pd.read_csv(\"Resources/Nyc_Crimes_List_2016.csv\")\n",
    "\n",
    "df_NYC_2015_list = pd.read_csv(\"Resources/Nyc_Crimes_List_2015.csv\",header=None)\n",
    "df_NYC_2015_list.columns = [\"Description\",\"Count\"]\n",
    "\n",
    "df_NYC_2014_list = pd.read_csv(\"Resources/Nyc_Crimes_List_2014.csv\",header=None)\n",
    "df_NYC_2014_list.columns = [\"Description\",\"Count\"]\n",
    "\n",
    "df_NYC_2013_list = pd.read_csv(\"Resources/Nyc_Crimes_List_2013.csv\",header=None)\n",
    "df_NYC_2013_list.columns = [\"Description\",\"Count\"]\n",
    "\n",
    "df_NYC_2012_list = pd.read_csv(\"Resources/Nyc_Crimes_List_2012.csv\",header=None)\n",
    "df_NYC_2012_list.columns = [\"Description\",\"Count\"]\n",
    "\n",
    "\n",
    "df_NYC_2011_list = pd.read_csv(\"Resources/Nyc_Crimes_List_2011.csv\",header=None)\n",
    "df_NYC_2011_list.columns = [\"Description\",\"Count\"]\n",
    "\n",
    "df_NYC_2010_list = pd.read_csv(\"Resources/Nyc_Crimes_List_2010.csv\")\n",
    "df_NYC_2010_list = df_NYC_2010_list.rename(columns={\"Discriptopn\":\"Description\"})\n",
    "df_NYC_main = df_NYC_2016_list"
   ]
  },
  {
   "cell_type": "code",
   "execution_count": 115,
   "metadata": {},
   "outputs": [],
   "source": [
    "#df_NYC_main[[\"Description\",\"Type\"]]\n",
    "df_NYC_2010 = df_NYC_2010_list[[\"Description\",\"Type\"]]\n",
    "df_NYC_2011 = pd.DataFrame(df_NYC_2011_list[[\"Description\",\"Count\"]])\n",
    "df_NYC_2012 = pd.DataFrame(df_NYC_2012_list[[\"Description\",\"Count\"]])\n",
    "df_NYC_2013 = pd.DataFrame(df_NYC_2013_list[[\"Description\",\"Count\"]])\n",
    "df_NYC_2014 = pd.DataFrame(df_NYC_2014_list[[\"Description\",\"Count\"]])\n",
    "df_NYC_2015 = pd.DataFrame(df_NYC_2015_list[[\"Description\",\"Count\"]])\n"
   ]
  },
  {
   "cell_type": "code",
   "execution_count": 116,
   "metadata": {},
   "outputs": [],
   "source": [
    "df_NYC_new = pd.merge(df_NYC_main,df_NYC_2010,on=\"Description\",how=\"outer\",suffixes=(\"_main\",\"_2010\"))"
   ]
  },
  {
   "cell_type": "code",
   "execution_count": 117,
   "metadata": {},
   "outputs": [],
   "source": [
    "df_NYC_new = pd.merge(df_NYC_new,df_NYC_2011,on=\"Description\",how=\"outer\",suffixes=(\"_main\",\"_2011\"))"
   ]
  },
  {
   "cell_type": "code",
   "execution_count": 118,
   "metadata": {},
   "outputs": [],
   "source": [
    "df_NYC_new = pd.merge(df_NYC_new,df_NYC_2012,on=\"Description\",how=\"outer\",suffixes=(\"_main\",\"_2012\"))"
   ]
  },
  {
   "cell_type": "code",
   "execution_count": 119,
   "metadata": {},
   "outputs": [],
   "source": [
    "df_NYC_new = pd.merge(df_NYC_new,df_NYC_2013,on=\"Description\",how=\"outer\",suffixes=(\"_main\",\"_2013\"))"
   ]
  },
  {
   "cell_type": "code",
   "execution_count": 121,
   "metadata": {},
   "outputs": [],
   "source": [
    "df_NYC_new = pd.merge(df_NYC_new,df_NYC_2014,on=\"Description\",how=\"outer\",suffixes=(\"_main\",\"_2014\"))"
   ]
  },
  {
   "cell_type": "code",
   "execution_count": 122,
   "metadata": {},
   "outputs": [],
   "source": [
    "df_NYC_new = pd.merge(df_NYC_new,df_NYC_2015,on=\"Description\",how=\"outer\",suffixes=(\"_main\",\"_2015\"))"
   ]
  },
  {
   "cell_type": "code",
   "execution_count": 134,
   "metadata": {},
   "outputs": [],
   "source": [
    "df_NYC_type_key = df_NYC_new[[\"Description\",\"Type_main\"]].dropna()"
   ]
  },
  {
   "cell_type": "code",
   "execution_count": 144,
   "metadata": {},
   "outputs": [],
   "source": [
    "df_NYC_type_key = df_NYC_type_key.rename(columns={\"Type_main\":\"Type\"})\n",
    "df_NYC_type_key.to_csv(\"NYC_Type_Key.csv\",index=False)"
   ]
  },
  {
   "cell_type": "code",
   "execution_count": 145,
   "metadata": {},
   "outputs": [],
   "source": [
    "df1 = pd.read_csv(\"NYC_Type_Key.csv\")"
   ]
  },
  {
   "cell_type": "markdown",
   "metadata": {},
   "source": [
    "### Do the Chicago Data"
   ]
  },
  {
   "cell_type": "code",
   "execution_count": 207,
   "metadata": {},
   "outputs": [],
   "source": [
    "df_CHI_main = pd.read_csv(\"Resources/Chi_Crimes_List_2016.csv\")\n",
    "df_CHI_main = df_CHI_main[[\"Primary Type\",\"Type\"]]\n",
    "df_CHI_main = df_CHI_main.rename(columns={\"Primary Type\":\"Description\"})"
   ]
  },
  {
   "cell_type": "code",
   "execution_count": 227,
   "metadata": {},
   "outputs": [],
   "source": [
    "df_CHI_2010 = pd.read_csv(\"Resources/Chi_Crimes_List_2010.csv\",header=None)\n",
    "df_CHI_2010.columns = [\"Description\",\"Count\"]\n",
    "\n",
    "df_CHI_2011 = pd.read_csv(\"Resources/Chi_Crimes_List_2011.csv\",header=None)\n",
    "df_CHI_2011.columns = [\"Description\",\"Count\"]\n",
    "\n",
    "df_CHI_2012 = pd.read_csv(\"Resources/Chi_Crimes_List_2012.csv\",header=None)\n",
    "df_CHI_2012.columns = [\"Description\",\"Count\"]\n",
    "\n",
    "df_CHI_2013 = pd.read_csv(\"Resources/Chi_Crimes_List_2013.csv\",header=None)\n",
    "df_CHI_2013.columns = [\"Description\",\"Count\"]\n",
    "\n",
    "df_CHI_2014 = pd.read_csv(\"Resources/Chi_Crimes_List_2014.csv\",header=None)\n",
    "df_CHI_2014.columns = [\"Description\",\"Count\"]\n",
    "\n",
    "df_CHI_2015 = pd.read_csv(\"Resources/Chi_Crimes_List_2015.csv\",header=None)\n",
    "df_CHI_2015.columns = [\"Description\",\"Count\"]\n",
    "\n",
    "\n"
   ]
  },
  {
   "cell_type": "code",
   "execution_count": 270,
   "metadata": {},
   "outputs": [],
   "source": [
    "df_CHI_new = pd.merge(df_CHI_main,df_CHI_2010,on=\"Description\",how=\"outer\",suffixes=(\"_main\",\"_2010\"))\n",
    "df_CHI_new = pd.merge(df_CHI_new ,df_CHI_2011,on=\"Description\",how=\"outer\",suffixes=(\"_main\",\"_2011\"))\n",
    "df_CHI_new = pd.merge(df_CHI_new ,df_CHI_2012,on=\"Description\",how=\"outer\",suffixes=(\"_main\",\"_2012\"))\n",
    "df_CHI_new = pd.merge(df_CHI_new ,df_CHI_2013,on=\"Description\",how=\"outer\",suffixes=(\"_main\",\"_2013\"))\n",
    "df_CHI_new = pd.merge(df_CHI_new ,df_CHI_2014,on=\"Description\",how=\"outer\",suffixes=(\"_main\",\"_2014\"))\n",
    "df_CHI_new = pd.merge(df_CHI_new ,df_CHI_2015,on=\"Description\",how=\"outer\",suffixes=(\"_main\",\"_2015\"))\n",
    "\n"
   ]
  },
  {
   "cell_type": "code",
   "execution_count": 287,
   "metadata": {},
   "outputs": [],
   "source": [
    "df_CHI_type_key = df_CHI_new[[\"Description\",\"Type\"]].dropna()\n",
    "df_CHI_type_key.to_csv(\"CHI_Type_Key.csv\",index=False)"
   ]
  },
  {
   "cell_type": "code",
   "execution_count": 288,
   "metadata": {},
   "outputs": [],
   "source": [
    "df2 = pd.read_csv(\"CHI_Type_Key.csv\")"
   ]
  },
  {
   "cell_type": "code",
   "execution_count": 319,
   "metadata": {},
   "outputs": [],
   "source": [
    "df3 = pd.read_csv(\"LA_Crimes_List_Categorized.csv\",header=None)\n"
   ]
  },
  {
   "cell_type": "code",
   "execution_count": 320,
   "metadata": {},
   "outputs": [],
   "source": [
    "df3 = df3[[0,2]]"
   ]
  },
  {
   "cell_type": "code",
   "execution_count": 321,
   "metadata": {},
   "outputs": [],
   "source": [
    "df3.columns = [\"Description\",\"Type\"]"
   ]
  },
  {
   "cell_type": "code",
   "execution_count": 322,
   "metadata": {},
   "outputs": [],
   "source": [
    "df3.to_csv(\"LA_Type_Key.csv\",index=False)\n",
    "df3 = pd.read_csv(\"LA_Type_Key.csv\")"
   ]
  },
  {
   "cell_type": "code",
   "execution_count": 323,
   "metadata": {},
   "outputs": [
    {
     "data": {
      "text/html": [
       "<div>\n",
       "<style scoped>\n",
       "    .dataframe tbody tr th:only-of-type {\n",
       "        vertical-align: middle;\n",
       "    }\n",
       "\n",
       "    .dataframe tbody tr th {\n",
       "        vertical-align: top;\n",
       "    }\n",
       "\n",
       "    .dataframe thead th {\n",
       "        text-align: right;\n",
       "    }\n",
       "</style>\n",
       "<table border=\"1\" class=\"dataframe\">\n",
       "  <thead>\n",
       "    <tr style=\"text-align: right;\">\n",
       "      <th></th>\n",
       "      <th>Description</th>\n",
       "    </tr>\n",
       "    <tr>\n",
       "      <th>Type</th>\n",
       "      <th></th>\n",
       "    </tr>\n",
       "  </thead>\n",
       "  <tbody>\n",
       "    <tr>\n",
       "      <th>Assault</th>\n",
       "      <td>19</td>\n",
       "    </tr>\n",
       "    <tr>\n",
       "      <th>Crimes against children</th>\n",
       "      <td>11</td>\n",
       "    </tr>\n",
       "    <tr>\n",
       "      <th>Destruction of Property</th>\n",
       "      <td>6</td>\n",
       "    </tr>\n",
       "    <tr>\n",
       "      <th>Disruption</th>\n",
       "      <td>11</td>\n",
       "    </tr>\n",
       "    <tr>\n",
       "      <th>Fraud</th>\n",
       "      <td>15</td>\n",
       "    </tr>\n",
       "    <tr>\n",
       "      <th>Human Trafficking</th>\n",
       "      <td>2</td>\n",
       "    </tr>\n",
       "    <tr>\n",
       "      <th>Legal</th>\n",
       "      <td>13</td>\n",
       "    </tr>\n",
       "    <tr>\n",
       "      <th>Miscellaneus</th>\n",
       "      <td>1</td>\n",
       "    </tr>\n",
       "    <tr>\n",
       "      <th>Sexual</th>\n",
       "      <td>20</td>\n",
       "    </tr>\n",
       "    <tr>\n",
       "      <th>Theft</th>\n",
       "      <td>44</td>\n",
       "    </tr>\n",
       "  </tbody>\n",
       "</table>\n",
       "</div>"
      ],
      "text/plain": [
       "                         Description\n",
       "Type                                \n",
       "Assault                           19\n",
       "Crimes against children           11\n",
       "Destruction of Property            6\n",
       "Disruption                        11\n",
       "Fraud                             15\n",
       "Human Trafficking                  2\n",
       "Legal                             13\n",
       "Miscellaneus                       1\n",
       "Sexual                            20\n",
       "Theft                             44"
      ]
     },
     "execution_count": 323,
     "metadata": {},
     "output_type": "execute_result"
    }
   ],
   "source": [
    "df3.groupby(\"Type\").count()"
   ]
  },
  {
   "cell_type": "code",
   "execution_count": 313,
   "metadata": {},
   "outputs": [
    {
     "data": {
      "text/html": [
       "<div>\n",
       "<style scoped>\n",
       "    .dataframe tbody tr th:only-of-type {\n",
       "        vertical-align: middle;\n",
       "    }\n",
       "\n",
       "    .dataframe tbody tr th {\n",
       "        vertical-align: top;\n",
       "    }\n",
       "\n",
       "    .dataframe thead th {\n",
       "        text-align: right;\n",
       "    }\n",
       "</style>\n",
       "<table border=\"1\" class=\"dataframe\">\n",
       "  <thead>\n",
       "    <tr style=\"text-align: right;\">\n",
       "      <th></th>\n",
       "      <th>Description</th>\n",
       "    </tr>\n",
       "    <tr>\n",
       "      <th>Type</th>\n",
       "      <th></th>\n",
       "    </tr>\n",
       "  </thead>\n",
       "  <tbody>\n",
       "    <tr>\n",
       "      <th>Assault</th>\n",
       "      <td>4</td>\n",
       "    </tr>\n",
       "    <tr>\n",
       "      <th>Crime against children</th>\n",
       "      <td>2</td>\n",
       "    </tr>\n",
       "    <tr>\n",
       "      <th>Destruction of Property</th>\n",
       "      <td>2</td>\n",
       "    </tr>\n",
       "    <tr>\n",
       "      <th>Disruption</th>\n",
       "      <td>3</td>\n",
       "    </tr>\n",
       "    <tr>\n",
       "      <th>Fraud</th>\n",
       "      <td>1</td>\n",
       "    </tr>\n",
       "    <tr>\n",
       "      <th>Legal</th>\n",
       "      <td>7</td>\n",
       "    </tr>\n",
       "    <tr>\n",
       "      <th>Miscellaneous</th>\n",
       "      <td>4</td>\n",
       "    </tr>\n",
       "    <tr>\n",
       "      <th>Sexual</th>\n",
       "      <td>4</td>\n",
       "    </tr>\n",
       "    <tr>\n",
       "      <th>Theft</th>\n",
       "      <td>4</td>\n",
       "    </tr>\n",
       "  </tbody>\n",
       "</table>\n",
       "</div>"
      ],
      "text/plain": [
       "                         Description\n",
       "Type                                \n",
       "Assault                            4\n",
       "Crime against children             2\n",
       "Destruction of Property            2\n",
       "Disruption                         3\n",
       "Fraud                              1\n",
       "Legal                              7\n",
       "Miscellaneous                      4\n",
       "Sexual                             4\n",
       "Theft                              4"
      ]
     },
     "execution_count": 313,
     "metadata": {},
     "output_type": "execute_result"
    }
   ],
   "source": [
    "df2.groupby(\"Type\").count()"
   ]
  },
  {
   "cell_type": "code",
   "execution_count": 314,
   "metadata": {},
   "outputs": [
    {
     "data": {
      "text/html": [
       "<div>\n",
       "<style scoped>\n",
       "    .dataframe tbody tr th:only-of-type {\n",
       "        vertical-align: middle;\n",
       "    }\n",
       "\n",
       "    .dataframe tbody tr th {\n",
       "        vertical-align: top;\n",
       "    }\n",
       "\n",
       "    .dataframe thead th {\n",
       "        text-align: right;\n",
       "    }\n",
       "</style>\n",
       "<table border=\"1\" class=\"dataframe\">\n",
       "  <thead>\n",
       "    <tr style=\"text-align: right;\">\n",
       "      <th></th>\n",
       "      <th>Description</th>\n",
       "    </tr>\n",
       "    <tr>\n",
       "      <th>Type</th>\n",
       "      <th></th>\n",
       "    </tr>\n",
       "  </thead>\n",
       "  <tbody>\n",
       "    <tr>\n",
       "      <th>Assault</th>\n",
       "      <td>9</td>\n",
       "    </tr>\n",
       "    <tr>\n",
       "      <th>Crimes against children</th>\n",
       "      <td>5</td>\n",
       "    </tr>\n",
       "    <tr>\n",
       "      <th>Disruption</th>\n",
       "      <td>10</td>\n",
       "    </tr>\n",
       "    <tr>\n",
       "      <th>Fraud</th>\n",
       "      <td>6</td>\n",
       "    </tr>\n",
       "    <tr>\n",
       "      <th>Legal</th>\n",
       "      <td>6</td>\n",
       "    </tr>\n",
       "    <tr>\n",
       "      <th>Miscellaneous</th>\n",
       "      <td>14</td>\n",
       "    </tr>\n",
       "    <tr>\n",
       "      <th>Sexual</th>\n",
       "      <td>3</td>\n",
       "    </tr>\n",
       "    <tr>\n",
       "      <th>Theft</th>\n",
       "      <td>9</td>\n",
       "    </tr>\n",
       "  </tbody>\n",
       "</table>\n",
       "</div>"
      ],
      "text/plain": [
       "                         Description\n",
       "Type                                \n",
       "Assault                            9\n",
       "Crimes against children            5\n",
       "Disruption                        10\n",
       "Fraud                              6\n",
       "Legal                              6\n",
       "Miscellaneous                     14\n",
       "Sexual                             3\n",
       "Theft                              9"
      ]
     },
     "execution_count": 314,
     "metadata": {},
     "output_type": "execute_result"
    }
   ],
   "source": [
    "df1.groupby(\"Type\").count()"
   ]
  },
  {
   "cell_type": "code",
   "execution_count": null,
   "metadata": {},
   "outputs": [],
   "source": []
  }
 ],
 "metadata": {
  "kernelspec": {
   "display_name": "Python 3",
   "language": "python",
   "name": "python3"
  },
  "language_info": {
   "codemirror_mode": {
    "name": "ipython",
    "version": 3
   },
   "file_extension": ".py",
   "mimetype": "text/x-python",
   "name": "python",
   "nbconvert_exporter": "python",
   "pygments_lexer": "ipython3",
   "version": "3.6.4"
  }
 },
 "nbformat": 4,
 "nbformat_minor": 2
}
