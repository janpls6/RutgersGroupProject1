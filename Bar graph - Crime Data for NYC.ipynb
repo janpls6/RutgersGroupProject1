{
 "cells": [
  {
   "cell_type": "code",
   "execution_count": 1,
   "metadata": {
    "collapsed": true
   },
   "outputs": [],
   "source": [
    "# Dependencies\n",
    "import matplotlib.pyplot as plt\n",
    "import pandas as pd\n",
    "import numpy as np"
   ]
  },
  {
   "cell_type": "code",
   "execution_count": 2,
   "metadata": {},
   "outputs": [],
   "source": [
    "# import one big csv file into pandas \n",
    "Nyc_Crimes_df = pd.read_csv(\"Nyc_merged.csv\")\n",
    "# Nyc_Crimes_df.head(2)"
   ]
  },
  {
   "cell_type": "code",
   "execution_count": 3,
   "metadata": {},
   "outputs": [],
   "source": [
    "# groupby year and type, then get value counts, then combine into a data frame, then graph\n",
    "Count_Nyc_Types = Nyc_Crimes_df.groupby([\"Years\", \"Type\"]).count()\n",
    "# Count_Nyc_Types.head(100)"
   ]
  },
  {
   "cell_type": "code",
   "execution_count": 4,
   "metadata": {},
   "outputs": [],
   "source": [
    "Count_Nyc_Types_NEW = Count_Nyc_Types.drop([\"Unnamed: 0\", \"Unnamed: 0.1\", \"CMPLNT_NUM\", \"CMPLNT_FR_DT\",\n",
    "                                           \"RPT_DT\", \"OFNS_DESC\", \"PD_DESC\", \"LAW_CAT_CD\", \"JURIS_DESC\",\n",
    "                                           \"BORO_NM\", \"Latitude\", \"Longitude\", \"Lat_Lon\"], axis=1)\n",
    "# Count_Nyc_Types_NEW"
   ]
  },
  {
   "cell_type": "code",
   "execution_count": 6,
   "metadata": {},
   "outputs": [
    {
     "data": {
      "text/plain": [
       "<matplotlib.figure.Figure at 0x115733860>"
      ]
     },
     "metadata": {},
     "output_type": "display_data"
    },
    {
     "data": {
      "image/png": "[encoded data removed]",
      "text/plain": [
       "<matplotlib.figure.Figure at 0x1157338d0>"
      ]
     },
     "metadata": {},
     "output_type": "display_data"
    }
   ],
   "source": [
    "\n",
    "# Number of clusters aka groups (each group = crime)\n",
    "plt.figure(figsize=(20,10))\n",
    "N = 8\n",
    "\n",
    "#Each Bar per Cluster \n",
    "year_2010 = (192594, 438, 10700, 15662, 18865, 88569, 6974, 173928)\n",
    "year_2011 = (187222, 422, 9513, 15196, 18028, 85133, 7121, 174310)\n",
    "year_2012 = (191312, 416, 8523, 15734, 17445, 81885, 7362, 180024)\n",
    "year_2013 = (187874, 380, 7768, 14502, 17928, 78893, 6547, 181770)\n",
    "year_2014 = (194317, 332, 7853, 14988, 17229, 71553, 6820, 176733)\n",
    "year_2015 = (194447, 324, 6809, 15234, 16747, 65361, 7248, 171222)\n",
    "year_2016 = (198985, 275, 6075, 15932, 16515, 66777, 7836, 166357)\n",
    "\n",
    "fig, ax = plt.subplots()\n",
    "\n",
    "ind = np.arange(N)\n",
    "width = 0.1\n",
    "p1 = ax.bar(ind+0*width, year_2010, width, color='r', bottom=0)\n",
    "p2 = ax.bar(ind+1*width, year_2011, width, color='orange', bottom=0)\n",
    "p3 = ax.bar(ind+2*width, year_2012, width, color='y', bottom=0)\n",
    "p4 = ax.bar(ind+3*width, year_2013, width, color='g', bottom=0)\n",
    "p5 = ax.bar(ind+4*width, year_2014, width, color='b', bottom=0)\n",
    "p6 = ax.bar(ind+5*width, year_2015, width, color='coral', bottom=0)\n",
    "p7 = ax.bar(ind+6*width, year_2016, width, color='skyblue', bottom=0)\n",
    "\n",
    "\n",
    "ax.set_title('Crimes in NYC (2010 - 2016)')\n",
    "ax.set_xticks(ind + width / 2)\n",
    "ax.set_xticklabels((\"Assault\", \"Crimes against children\",\n",
    "                    \"Disruption\", \"Fraud\", \"Legal\", \n",
    "                    \"Miscellaneous\", \"Sexual\", \"Theft\"))\n",
    "\n",
    "ax.legend((p1[0], p2[0], p3[0], p4[0], p5[0], p6[0], p7[0]), ('2010', '2011','2012','2013','2014','2015','2016'))\n",
    "ax.autoscale_view()\n",
    "\n",
    "\n",
    "\n",
    "fig.set_size_inches(18.5, 10.5)\n",
    "fig.savefig('Bar-Graph-NYC.png', dpi=100)\n",
    "plt.show()"
   ]
  },
  {
   "cell_type": "code",
   "execution_count": null,
   "metadata": {
    "collapsed": true
   },
   "outputs": [],
   "source": []
  },
  {
   "cell_type": "code",
   "execution_count": null,
   "metadata": {
    "collapsed": true
   },
   "outputs": [],
   "source": []
  },
  {
   "cell_type": "code",
   "execution_count": null,
   "metadata": {
    "collapsed": true
   },
   "outputs": [],
   "source": []
  },
  {
   "cell_type": "code",
   "execution_count": null,
   "metadata": {
    "collapsed": true
   },
   "outputs": [],
   "source": []
  },
  {
   "cell_type": "code",
   "execution_count": null,
   "metadata": {
    "collapsed": true
   },
   "outputs": [],
   "source": []
  }
 ],
 "metadata": {
  "kernelspec": {
   "display_name": "Python 3",
   "language": "python",
   "name": "python3"
  },
  "language_info": {
   "codemirror_mode": {
    "name": "ipython",
    "version": 3
   },
   "file_extension": ".py",
   "mimetype": "text/x-python",
   "name": "python",
   "nbconvert_exporter": "python",
   "pygments_lexer": "ipython3",
   "version": "3.6.3"
  }
 },
 "nbformat": 4,
 "nbformat_minor": 2
}
