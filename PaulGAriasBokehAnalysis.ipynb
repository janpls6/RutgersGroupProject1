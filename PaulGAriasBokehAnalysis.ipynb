{
 "cells": [
  {
   "cell_type": "markdown",
   "metadata": {},
   "source": [
    "https://bokeh.pydata.org/en/latest/docs/reference/palettes.html"
   ]
  },
  {
   "cell_type": "code",
   "execution_count": 30,
   "metadata": {},
   "outputs": [],
   "source": [
    "from bokeh.io import (show, output_file)\n",
    "from bokeh.models import (\n",
    "    ColumnDataSource,\n",
    "    HoverTool,\n",
    "    LogColorMapper\n",
    ")\n",
    "from bokeh.palettes import OrRd9 as palette\n",
    "palette.reverse()\n",
    "from bokeh.plotting import figure\n",
    "#bokeh.sampledata.download()\n",
    "from bokeh.sampledata.us_counties import data as counties\n",
    "from bokeh.sampledata.unemployment import data as unemployment\n",
    "\n",
    "import pandas as pd\n",
    "import numpy as np"
   ]
  },
  {
   "cell_type": "markdown",
   "metadata": {},
   "source": [
    "## Try using US zip code Mapping with Bokeh"
   ]
  },
  {
   "cell_type": "code",
   "execution_count": 31,
   "metadata": {},
   "outputs": [],
   "source": [
    "df_zipcode_geo = pd.read_csv(\"US_ZIP_codes.csv\")"
   ]
  },
  {
   "cell_type": "code",
   "execution_count": 32,
   "metadata": {},
   "outputs": [],
   "source": [
    "df_counties = df_zipcode_geo[(df_zipcode_geo['STATE']==\"CA\") & ([len(str(item))>4 for item in df_zipcode_geo['ZIP']])]\n",
    "df_counties_LA = df_counties[df_counties['PONAME']=='LOS ANGELES']"
   ]
  },
  {
   "cell_type": "code",
   "execution_count": 33,
   "metadata": {},
   "outputs": [],
   "source": [
    "def getArrayFromGeokml(geokml):\n",
    "    try:\n",
    "        coord_string = geokml.strip(\"<Polygon><outerBoundaryIs><LinearRing><coordinates>\").strip(\"</coordinates></LinearRing></outerBoundaryIs></Polygon>\")\n",
    "        coord_string.strip(\"<MultiGeometry>\").strip(\"</MultiGeometry>\")\n",
    "        #print(coord_string)\n",
    "        zip_array = np.array([[np.float(item.split(\",\")[0]),np.float(item.split(\",\")[1])] for item in coord_string.split()])\n",
    "        return zip_array.T[0],zip_array.T[1]\n",
    "    except:\n",
    "        pass"
   ]
  },
  {
   "cell_type": "code",
   "execution_count": null,
   "metadata": {},
   "outputs": [],
   "source": []
  },
  {
   "cell_type": "code",
   "execution_count": 34,
   "metadata": {},
   "outputs": [],
   "source": [
    "df_2016_LA = pd.read_csv(\"2016_LA_Crimes.csv\")"
   ]
  },
  {
   "cell_type": "code",
   "execution_count": 35,
   "metadata": {},
   "outputs": [],
   "source": [
    "df_2016_LA_ds = df_2016_LA[[\"Zip code\",\"Crime Code Description\",\"DR Number\"]]"
   ]
  },
  {
   "cell_type": "code",
   "execution_count": 36,
   "metadata": {},
   "outputs": [],
   "source": [
    "df_zipbycrime = pd.DataFrame(df_2016_LA_ds.groupby([\"Zip code\",\"Crime Code Description\"]).count()['DR Number'])"
   ]
  },
  {
   "cell_type": "code",
   "execution_count": null,
   "metadata": {},
   "outputs": [],
   "source": []
  },
  {
   "cell_type": "code",
   "execution_count": 38,
   "metadata": {},
   "outputs": [],
   "source": [
    "df_data = df_counties_LA.set_index(\"ZIP\").join(df_zipbycrime.unstack()['DR Number'][\"ASSAULT WITH DEADLY WEAPON, AGGRAVATED ASSAULT\"])[['geometry',\"ASSAULT WITH DEADLY WEAPON, AGGRAVATED ASSAULT\"]].dropna().reset_index()\n",
    "\n",
    "#df_data = df_counties_LA.set_index(\"ZIP\").join(pd.DataFrame(df_zipbycrime.unstack()['DR Number'][\"ARSON\"]))[['geometry',\"ARSON\"]].dropna()\n",
    "zip_xs = [getArrayFromGeokml(zipCodeGeo)[0] for zipCodeGeo in df_data['geometry'].dropna()]\n",
    "ZipNames = [str(zipname) for zipname in df_data[['geometry','ZIP']].dropna()['ZIP']]\n",
    "zip_ys = [getArrayFromGeokml(zipCodeGeo)[1] for zipCodeGeo in df_data['geometry'].dropna()]\n",
    "rates = list(df_data[\"ASSAULT WITH DEADLY WEAPON, AGGRAVATED ASSAULT\"])\n",
    "\n",
    "color_mapper = LogColorMapper(palette=palette)\n",
    "\n",
    "source = ColumnDataSource(data=dict(\n",
    "    x=zip_xs,\n",
    "    y=zip_ys,\n",
    "    name=ZipNames,\n",
    "    rate=rates,\n",
    "))\n",
    "\n",
    "TOOLS = \"pan,wheel_zoom,reset,hover,save\"\n",
    "\n",
    "p = figure(\n",
    "    title=\"ASSAULT WITH DEADLY WEAPON, AGGRAVATED ASSAULT, 2010\", tools=TOOLS,\n",
    "    x_axis_location=None, y_axis_location=None\n",
    ")\n",
    "\n",
    "p.grid.grid_line_color = None\n",
    "\n",
    "\n",
    "p.patches('x', 'y', source=source,\n",
    "          fill_color={'field': 'rate', 'transform': color_mapper},\n",
    "          fill_alpha=0.7, line_color=\"white\", line_width=0.5)\n",
    "\n",
    "hover = p.select_one(HoverTool)\n",
    "hover.point_policy = \"follow_mouse\"\n",
    "hover.tooltips = [\n",
    "    (\"Name\", \"@name\"),\n",
    "    (\"Assault counts\", \"@rate\"),\n",
    "]\n",
    "\n",
    "output_file(\"Assault.html\")\n",
    "show(p)"
   ]
  },
  {
   "cell_type": "code",
   "execution_count": null,
   "metadata": {},
   "outputs": [],
   "source": []
  },
  {
   "cell_type": "code",
   "execution_count": null,
   "metadata": {},
   "outputs": [],
   "source": []
  },
  {
   "cell_type": "code",
   "execution_count": null,
   "metadata": {},
   "outputs": [],
   "source": []
  },
  {
   "cell_type": "code",
   "execution_count": null,
   "metadata": {},
   "outputs": [],
   "source": []
  },
  {
   "cell_type": "code",
   "execution_count": null,
   "metadata": {},
   "outputs": [],
   "source": []
  }
 ],
 "metadata": {
  "kernelspec": {
   "display_name": "Python 3",
   "language": "python",
   "name": "python3"
  },
  "language_info": {
   "codemirror_mode": {
    "name": "ipython",
    "version": 3
   },
   "file_extension": ".py",
   "mimetype": "text/x-python",
   "name": "python",
   "nbconvert_exporter": "python",
   "pygments_lexer": "ipython3",
   "version": "3.6.4"
  }
 },
 "nbformat": 4,
 "nbformat_minor": 2
}
